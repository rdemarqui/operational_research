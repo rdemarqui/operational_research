{
 "cells": [
  {
   "cell_type": "markdown",
   "id": "5aee222b",
   "metadata": {},
   "source": [
    "Problema: Maximizar o lucro\n",
    "* Mesa: Tempo de fabricação 12min, material utilizado 3, lucro R$ 34,00\n",
    "* Cadeira: Tempo de fabricação 10min, material utilizado 1, lucro R$ 18\n",
    "* Restrição de Tempo 480 minutos\n",
    "* Restrição de materiais 72"
   ]
  },
  {
   "cell_type": "code",
   "execution_count": 7,
   "id": "3390aeac",
   "metadata": {},
   "outputs": [
    {
     "name": "stdout",
     "output_type": "stream",
     "text": [
      "Lucro projetado:  1029.3333333333335\n",
      "Qtde de Mesas por dia deve ser  13.333333333333334\n",
      "Qtde de Cadeiras por dia deve ser  32.0\n",
      "Se aumentarmos o tempo de trabalho de 480h para 481h, teremos um aumento no lucro de R$ 1.11\n",
      "Se aumentarmos a restrição de materia prima de 72 para 73, teremos um aumento no lucro de R$ 6.89\n"
     ]
    }
   ],
   "source": [
    "from cvxopt.modeling import op, variable\n",
    "from cvxopt import solvers\n",
    "\n",
    "# Definição das variáveis de decisão\n",
    "mesa = variable(1, \"Qtde de Mesas por dia\")\n",
    "cadeira = variable(1, \"Qtde de Cadeiras por dia\")\n",
    "\n",
    "# Função objetivo (maximização do lucro → minimização do negativo)\n",
    "fob = -(34 * mesa[0] + 18 * cadeira[0])\n",
    "\n",
    "# Restrições\n",
    "restricoes = []\n",
    "restricoes.append(12 * mesa[0] + 10 * cadeira[0] <= 480)  # Tempo de fabricação\n",
    "restricoes.append(3 * mesa[0] + 1 * cadeira[0] <= 72)  # Material para fabricar\n",
    "restricoes.append(mesa[0] >= 0)\n",
    "restricoes.append(cadeira[0] >= 0)\n",
    "\n",
    "# Problema de otimização\n",
    "marcenaria = op(fob, restricoes)\n",
    "\n",
    "# Solução do problema\n",
    "marcenaria.solve('dense', 'glpk')\n",
    "\n",
    "# Resultados\n",
    "print(\"Lucro projetado: \", -fob.value()[0])  # Reverter o sinal (porque foi minimizado o negativo)\n",
    "print(mesa.name, \"deve ser \", mesa[0].value()[0])\n",
    "print(cadeira.name, \"deve ser \", cadeira[0].value()[0])\n",
    "\n",
    "# Multiplicador de Lagrange (ou variáveis duais)\n",
    "# O valor do multiplicador associado a uma restrição indica quanto aumentaria o valor ótimo da função objetivo se a restrição fosse relaxada em uma unidade.\n",
    "print(\"Se aumentarmos o tempo de trabalho de 480h para 481h, teremos um aumento no lucro de R$\", round(restricoes[0].multiplier.value[0], 2)) \n",
    "print(\"Se aumentarmos a restrição de materia prima de 72 para 73, teremos um aumento no lucro de R$\", round(restricoes[1].multiplier.value[0], 2)) \n"
   ]
  },
  {
   "cell_type": "markdown",
   "id": "be736082",
   "metadata": {},
   "source": [
    "Nota: Na prática é impossível fabricar os moveis de maneira fracionada, a modelagem acima foi uma simplificação. Além disso, no CVXOPT, não é possível diretamente impor que variáveis sejam inteiras (isto é, programação inteira ou inteira mista). O CVXOPT é feito para resolver problemas de programação convexa contínua, como programação linear e quadrática com variáveis reais (contínuas)."
   ]
  },
  {
   "cell_type": "markdown",
   "id": "75308e8e",
   "metadata": {},
   "source": [
    "---"
   ]
  }
 ],
 "metadata": {
  "kernelspec": {
   "display_name": "Python 3",
   "language": "python",
   "name": "python3"
  },
  "language_info": {
   "codemirror_mode": {
    "name": "ipython",
    "version": 3
   },
   "file_extension": ".py",
   "mimetype": "text/x-python",
   "name": "python",
   "nbconvert_exporter": "python",
   "pygments_lexer": "ipython3",
   "version": "3.9.13"
  }
 },
 "nbformat": 4,
 "nbformat_minor": 5
}
