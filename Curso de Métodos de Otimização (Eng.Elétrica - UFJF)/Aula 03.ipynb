{
 "cells": [
  {
   "cell_type": "markdown",
   "id": "26673103",
   "metadata": {},
   "source": [
    "## Problema de Otimização: Maximização do Lucro no Cultivo de Cereais"
   ]
  },
  {
   "cell_type": "markdown",
   "id": "00f918eb",
   "metadata": {},
   "source": [
    "Um agricultor deseja cultivar duas variedades de cereais, A e B, em uma área restrita de 100 are(a are = 100m2). Sendo que:\n",
    "* 1 are do cereal A produz 8 sacas\n",
    "* 1 are do cereal B produz 10 sacas\n",
    "Para o plantio de cada cereal:\n",
    "* Tipo A precisa de 3 homens-hora de trabalho por are\n",
    "* Tipo B precisa de 2 homens-hora de trabalho por are\n",
    "sendo que se dispõe de até 240 homens-hora de trabalho para o cultivo, e o custo da mão de obra é de R$ 200 por homem-hora.\n",
    "\n",
    "A demanda máxima é limitada pelo mercado a 480 sacas do cereal tipo A, vendido a R$ 150/saca, e 800 sacas do cereal B, vendido a R$ 120/saca.\n",
    "\n",
    "O agricultor deseja otimizar a área de cultivo de forma a MAXIMIZAR O LUCRO."
   ]
  },
  {
   "cell_type": "markdown",
   "id": "b410f517",
   "metadata": {},
   "source": [
    "## Modelagem Matemática\n",
    "\n",
    "### Variáveis de decisão:\n",
    "- $x$: área (em ares) destinada ao cultivo do cereal A  \n",
    "- $y$: área (em ares) destinada ao cultivo do cereal B\n",
    "\n",
    "### Função Objetivo:\n",
    "Maximizar o lucro:\n",
    "\n",
    "$$\n",
    "\\text{Lucro} = (8x \\cdot 150 + 10y \\cdot 120) - 200(3x + 2y)\n",
    "$$\n",
    "\n",
    "$$\n",
    "\\text{Lucro} = 1200x + 1200y - (600x + 400y) = 600x + 800y\n",
    "$$\n",
    "\n",
    "### Restrições:\n",
    "\n",
    "1. Área total disponível:\n",
    "$$\n",
    "x + y \\leq 100\n",
    "$$\n",
    "\n",
    "2. Limite de mão de obra:\n",
    "$$\n",
    "3x + 2y \\leq 240\n",
    "$$\n",
    "\n",
    "3. Limites de demanda:\n",
    "$$\n",
    "8x \\leq 480 \\Rightarrow x \\leq 60\n",
    "$$\n",
    "\n",
    "$$\n",
    "10y \\leq 800 \\Rightarrow y \\leq 80\n",
    "$$\n",
    "\n",
    "4. Não negatividade:\n",
    "$$\n",
    "x \\geq 0, \\quad y \\geq 0\n",
    "$$\n"
   ]
  },
  {
   "cell_type": "code",
   "execution_count": 12,
   "id": "dc88b1f1",
   "metadata": {},
   "outputs": [
    {
     "name": "stdout",
     "output_type": "stream",
     "text": [
      "Status: optimal\n",
      "Área de cultivo para cereal A (x): 20.0\n",
      "Área de cultivo para cereal B (y): 80.0\n",
      "Lucro máximo: R$ 76000.0\n",
      "Variável dual associada a restrição de área R$ 600.0\n",
      "Variável dual associada a restrição de mão de obra R$ 0.0\n",
      "Variável dual associada a demanda máxima do cereal A R$ 0.0\n",
      "Variável dual associada a demanda máxima do cereal B R$ 200.0\n"
     ]
    }
   ],
   "source": [
    "from cvxopt.modeling import variable, op\n",
    "\n",
    "# Variáveis de decisão\n",
    "x = variable()  # cereal A\n",
    "y = variable()  # cereal B\n",
    "\n",
    "# Função objetivo (Fob): maximizar 600x + 800y (negamos para usar minimização)\n",
    "lucro = - (600 * x + 800 * y)\n",
    "\n",
    "# Restrições\n",
    "restricoes = [\n",
    "    x + y <= 100,       # restrição de área\n",
    "    3 * x + 2 * y <= 240,  # restrição de mão de obra\n",
    "    x <= 60,            # demanda máxima do cereal A\n",
    "    y <= 80,            # demanda máxima do cereal B\n",
    "    x >= 0,             # não negatividade\n",
    "    y >= 0\n",
    "]\n",
    "\n",
    "# Definição do problema\n",
    "modelo = op(lucro, restricoes)\n",
    "\n",
    "# Resolução\n",
    "modelo.solve('dense', 'glpk')\n",
    "\n",
    "# Resultados\n",
    "print(\"Status:\", modelo.status)\n",
    "print(\"Área de cultivo para cereal A (x):\", x.value[0])\n",
    "print(\"Área de cultivo para cereal B (y):\", y.value[0])\n",
    "print(\"Lucro máximo: R$\", -modelo.objective.value()[0])\n",
    "print(\"Variável dual associada a restrição de área R$\", restricoes[0].multiplier.value[0])\n",
    "print(\"Variável dual associada a restrição de mão de obra R$\", restricoes[1].multiplier.value[0])\n",
    "print(\"Variável dual associada a demanda máxima do cereal A R$\", restricoes[2].multiplier.value[0])\n",
    "print(\"Variável dual associada a demanda máxima do cereal B R$\", restricoes[3].multiplier.value[0])"
   ]
  },
  {
   "cell_type": "markdown",
   "id": "16589342",
   "metadata": {},
   "source": [
    "A variáveis dual (Lagrange) para restrição de mão de obra e cereal A estão zeradas, significando que não atingimos o limite imposto pelas restrições. Já a variável de restrição de área apresentando o valor de R$600,00 significa que se aumentarmos a área em 1 unidade obteremos um lucro de R$600, ou seja, se um vizinho estiver alugando um are por menos desse valor, vale a pena alugar para o plantio."
   ]
  },
  {
   "cell_type": "markdown",
   "id": "9c52e159",
   "metadata": {},
   "source": [
    "---"
   ]
  }
 ],
 "metadata": {
  "kernelspec": {
   "display_name": "Python 3",
   "language": "python",
   "name": "python3"
  },
  "language_info": {
   "codemirror_mode": {
    "name": "ipython",
    "version": 3
   },
   "file_extension": ".py",
   "mimetype": "text/x-python",
   "name": "python",
   "nbconvert_exporter": "python",
   "pygments_lexer": "ipython3",
   "version": "3.9.13"
  }
 },
 "nbformat": 4,
 "nbformat_minor": 5
}
