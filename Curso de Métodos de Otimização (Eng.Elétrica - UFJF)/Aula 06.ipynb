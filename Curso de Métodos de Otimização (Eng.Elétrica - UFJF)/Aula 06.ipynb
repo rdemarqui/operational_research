{
 "cells": [
  {
   "cell_type": "markdown",
   "id": "c072def9",
   "metadata": {},
   "source": [
    "## Big M"
   ]
  },
  {
   "cell_type": "markdown",
   "id": "f03e9f6f",
   "metadata": {},
   "source": [
    "O **método Big M** é uma técnica usada no **método Simplex** para resolver problemas de **programação linear** que envolvem:\n",
    "\n",
    "- Restrições com **igualdade (=)** ou\n",
    "- Restrições com **desigualdade do tipo ≥**\n",
    "\n",
    "Esses tipos de restrições não podem ser resolvidos diretamente usando o Simplex na sua forma padrão, por isso usamos o Big M para adaptar o problema.\n"
   ]
  },
  {
   "cell_type": "markdown",
   "id": "4a915e8d",
   "metadata": {},
   "source": [
    "### Ideia do Método Big M\n",
    "\n",
    "O método Big M adiciona:\n",
    "\n",
    "- **Variáveis de folga (slack)** para restrições do tipo ≤\n",
    "- **Variáveis de excesso (excess)** e **variáveis artificiais** para ≥ ou =\n",
    "- Um valor muito grande M (positivo), penalizando as variáveis artificiais na função objetivo, para que elas **saiam da base** durante a otimização. Regra de bolso: atribuir um valor de M 20 vezes maior que o maior coeficiente da função objetivo.\n",
    "\n",
    "\n",
    "**Notas:**\n",
    "- O valor de M deve ser suficientemente grande para garantir que as variáveis artificiais **não façam parte da solução ótima** (salvo quando necessário).\n",
    "- O método Big M é muito utilizado em implementações clássicas do Simplex quando a forma padrão não é possível diretamente.\n",
    "- Hoje em dia, muitos solvers utilizam o **método das duas fases**, que evita precisar definir o valor de M explicitamente.\n"
   ]
  },
  {
   "cell_type": "markdown",
   "id": "c94fe9fc",
   "metadata": {},
   "source": [
    "## Exemplo em python\n",
    "\n",
    "Considere o seguinte problema:\n",
    "\n",
    "Maximizar:  \n",
    "  P = x₁ - x₂ + 3x₃\n",
    "\n",
    "Sujeito a:  \n",
    "  x₁ + x₂ ≤ 20  \n",
    "  x₁ + x₃ = 5  \n",
    "  x₂ + x₃ ≥ 10  \n",
    "  x₁, x₂, x₃ ≥ 0"
   ]
  },
  {
   "cell_type": "code",
   "execution_count": 10,
   "id": "215a5788",
   "metadata": {},
   "outputs": [
    {
     "name": "stdout",
     "output_type": "stream",
     "text": [
      "x1: 0.0\n",
      "x2: 5.0\n",
      "x3: 5.0\n",
      "fob: 10.0\n"
     ]
    }
   ],
   "source": [
    "from cvxopt.modeling import variable, op\n",
    "\n",
    "# Definindo as variáveis de decisão\n",
    "x1 = variable()\n",
    "x2 = variable()\n",
    "x3 = variable()\n",
    "\n",
    "# Definindo o problema\n",
    "p = x1 - x2 + 3*x3\n",
    "\n",
    "# Definindo as restrições\n",
    "restricoes = [\n",
    "    x1 + x2 <= 20,\n",
    "    x1 + x3 == 5,\n",
    "    x2 + x3 >= 10,\n",
    "    x1 >= 0,\n",
    "    x2 >= 0,\n",
    "    x3 >= 0,\n",
    "]\n",
    "\n",
    "# Resolvendo o probelma\n",
    "problema = op(-p, restricoes)  #invertendo p para considerar maximização\n",
    "problema.solve('dense', 'glpk')\n",
    "\n",
    "# imprimindo as variaveis de decisão\n",
    "print(\"x1:\", x1.value[0])\n",
    "print(\"x2:\", x2.value[0])\n",
    "print(\"x3:\", x3.value[0])\n",
    "print(\"fob:\", p.value()[0])"
   ]
  },
  {
   "cell_type": "markdown",
   "id": "a915f2fc",
   "metadata": {},
   "source": [
    "### Resolução pela Forma Padrão"
   ]
  },
  {
   "cell_type": "markdown",
   "id": "3c22e042",
   "metadata": {},
   "source": [
    "Maximizar:  \n",
    "  P = x₁ - x₂ + 3x₃ - Ma1 - Ma2\n",
    "\n",
    "Sujeito a:  \n",
    "  x₁ + x₂ + s1 = 20  \n",
    "  x₁ + x₃ + a1 = 5  \n",
    "  x₂ + x₃ - s2 + a2 = 10  \n",
    "  x₁, x₂, x₃, s1, s2, a1, a2 ≥ 0"
   ]
  },
  {
   "cell_type": "code",
   "execution_count": 12,
   "id": "d27b874f",
   "metadata": {},
   "outputs": [
    {
     "name": "stdout",
     "output_type": "stream",
     "text": [
      "x1: 0.0\n",
      "x2: 5.0\n",
      "x3: 5.0\n",
      "s1: 15.0\n",
      "s2: 0.0\n",
      "a1: 0.0\n",
      "a2: 0.0\n",
      "fob: 10.0\n"
     ]
    }
   ],
   "source": [
    "# Definindo as variáveis de decisão\n",
    "x1 = variable()\n",
    "x2 = variable()\n",
    "x3 = variable()\n",
    "\n",
    "# Definindo as variáveis de folga\n",
    "s1 = variable()\n",
    "s2 = variable()\n",
    "\n",
    "# Definindo as variáveis artificiais\n",
    "a1 = variable()\n",
    "a2 = variable()\n",
    "\n",
    "# Definindo o valor de M\n",
    "M = 60   # 20 x o maior coeficiente da função objetivo\n",
    "\n",
    "# Definindo o problema\n",
    "p = x1 - x2 + 3*x3 - M*a1 - M*a2\n",
    "\n",
    "# Definindo as restrições\n",
    "restricoes = [\n",
    "    x1 + x2 + s1 == 20,\n",
    "    x1 + x3 + a1 == 5,\n",
    "    x2 + x3 - s2 + a2 == 10,\n",
    "    x1 >= 0,\n",
    "    x2 >= 0,\n",
    "    x3 >= 0,\n",
    "    s1 >= 0,\n",
    "    s2 >= 0,\n",
    "    a1 >= 0,\n",
    "    a2 >= 0,\n",
    "]\n",
    "\n",
    "# Resolvendo o probelma\n",
    "problema = op(-p, restricoes)  #invertendo p para considerar maximização\n",
    "problema.solve('dense', 'glpk')\n",
    "\n",
    "# imprimindo as variaveis de decisão\n",
    "print(\"x1:\", x1.value[0])\n",
    "print(\"x2:\", x2.value[0])\n",
    "print(\"x3:\", x3.value[0])\n",
    "print(\"s1:\", s1.value[0])\n",
    "print(\"s2:\", s2.value[0])\n",
    "print(\"a1:\", a1.value[0])\n",
    "print(\"a2:\", a2.value[0])\n",
    "print(\"fob:\", p.value()[0])"
   ]
  },
  {
   "cell_type": "markdown",
   "id": "c205ad36",
   "metadata": {},
   "source": [
    "---"
   ]
  }
 ],
 "metadata": {
  "kernelspec": {
   "display_name": "Python 3",
   "language": "python",
   "name": "python3"
  },
  "language_info": {
   "codemirror_mode": {
    "name": "ipython",
    "version": 3
   },
   "file_extension": ".py",
   "mimetype": "text/x-python",
   "name": "python",
   "nbconvert_exporter": "python",
   "pygments_lexer": "ipython3",
   "version": "3.9.13"
  }
 },
 "nbformat": 4,
 "nbformat_minor": 5
}
